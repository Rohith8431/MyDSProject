{
  "nbformat": 4,
  "nbformat_minor": 0,
  "metadata": {
    "colab": {
      "provenance": []
    },
    "kernelspec": {
      "name": "python3",
      "display_name": "Python 3"
    },
    "language_info": {
      "name": "python"
    }
  },
  "cells": [
    {
      "cell_type": "code",
      "execution_count": null,
      "metadata": {
        "id": "kDImA_5GsZnb"
      },
      "outputs": [],
      "source": [
        "#  pip install langchain\n",
        "#  pip install openai\n",
        "#  pip install tiktoken\n",
        "#  pip install faiss-cpu"
      ]
    },
    {
      "cell_type": "code",
      "source": [
        "pip install PyPDF2"
      ],
      "metadata": {
        "id": "UEwNAUj9vXX2"
      },
      "execution_count": null,
      "outputs": []
    },
    {
      "cell_type": "code",
      "source": [
        "pip install -U langchain-community"
      ],
      "metadata": {
        "id": "MlPbqAODsfVO"
      },
      "execution_count": null,
      "outputs": []
    },
    {
      "cell_type": "code",
      "source": [
        "from PyPDF2 import PdfReader\n",
        "from langchain.embeddings.openai import OpenAIEmbeddings\n",
        "from langchain.text_splitter import CharacterTextSplitter\n",
        "from langchain.vectorstores import FAISS"
      ],
      "metadata": {
        "id": "rcQZ8jH4sikm"
      },
      "execution_count": null,
      "outputs": []
    },
    {
      "cell_type": "code",
      "source": [
        "import os\n",
        "os.environ[\"OPENAI_API_KEY\"] = \"\""
      ],
      "metadata": {
        "id": "ihS4KKlisro2"
      },
      "execution_count": null,
      "outputs": []
    },
    {
      "cell_type": "code",
      "source": [
        "pdfreader = PdfReader(\"budget_speech.pdf\")"
      ],
      "metadata": {
        "id": "b-mBWIQ6suGt"
      },
      "execution_count": null,
      "outputs": []
    },
    {
      "cell_type": "code",
      "source": [
        "from typing_extensions import Concatenate\n",
        "raw_text = \"\"\n",
        "for i, page in enumerate(pdfreader.pages):\n",
        "  content = page.extract_text()\n",
        "  if content:\n",
        "    raw_text+= content"
      ],
      "metadata": {
        "id": "_Dwa8N_zs0C2"
      },
      "execution_count": null,
      "outputs": []
    },
    {
      "cell_type": "code",
      "source": [
        "raw_text"
      ],
      "metadata": {
        "id": "_SPv8z0m-gH2"
      },
      "execution_count": null,
      "outputs": []
    },
    {
      "cell_type": "code",
      "source": [
        "text_spiltter = CharacterTextSplitter(\n",
        "    separator='\\n',\n",
        "    chunk_size=800,\n",
        "    chunk_overlap=200,\n",
        "    length_function=len,\n",
        "\n",
        ")"
      ],
      "metadata": {
        "id": "4pK5shvitDJ1"
      },
      "execution_count": null,
      "outputs": []
    },
    {
      "cell_type": "code",
      "source": [
        "text=text_spiltter.split_text(raw_text)"
      ],
      "metadata": {
        "id": "TdhAqboHtHfu"
      },
      "execution_count": null,
      "outputs": []
    },
    {
      "cell_type": "code",
      "source": [
        "len(text)"
      ],
      "metadata": {
        "id": "9kI2RkxNtNr1"
      },
      "execution_count": null,
      "outputs": []
    },
    {
      "cell_type": "code",
      "source": [
        "import tiktoken\n",
        "encoding = tiktoken.get_encoding('cl100k_base')"
      ],
      "metadata": {
        "id": "dzUvmEfNtOuO"
      },
      "execution_count": null,
      "outputs": []
    },
    {
      "cell_type": "code",
      "source": [
        "def count_tokens(text:str)->int:\n",
        "  return len(encoding.encode(text))"
      ],
      "metadata": {
        "id": "0qseyoIBtqKO"
      },
      "execution_count": null,
      "outputs": []
    },
    {
      "cell_type": "code",
      "source": [
        "text_spiltter = CharacterTextSplitter(\n",
        "    separator='/n',\n",
        "    chunk_size=800,\n",
        "    chunk_overlap=200,\n",
        "    length_function=count_tokens\n",
        ")"
      ],
      "metadata": {
        "id": "6XlBQ9bpt1-N"
      },
      "execution_count": null,
      "outputs": []
    },
    {
      "cell_type": "code",
      "source": [
        "for i, page in enumerate(pdfreader.pages):\n",
        "  text=page.extract_text()\n",
        "  if text:\n",
        "    print(f\"Page {i+1} - Tokens: {count_tokens(text)}\")\n",
        "  else:\n",
        "    print(f\"Page {i+1} - No extractable text\")"
      ],
      "metadata": {
        "id": "TtFB3Saot3qt"
      },
      "execution_count": null,
      "outputs": []
    },
    {
      "cell_type": "code",
      "source": [
        "print(\"Total tokens :\",count_tokens(\" \".join(text)))"
      ],
      "metadata": {
        "id": "gEjOM3SLuFwO"
      },
      "execution_count": null,
      "outputs": []
    },
    {
      "cell_type": "code",
      "source": [
        "embedding = OpenAIEmbeddings()"
      ],
      "metadata": {
        "id": "aju_asJ4uIiW"
      },
      "execution_count": null,
      "outputs": []
    },
    {
      "cell_type": "code",
      "source": [
        "doc_search = FAISS.from_texts(text,embedding)"
      ],
      "metadata": {
        "id": "2yUjytgPuO-m"
      },
      "execution_count": null,
      "outputs": []
    },
    {
      "cell_type": "code",
      "source": [
        "doc_search"
      ],
      "metadata": {
        "id": "eWvMdovJuUDl"
      },
      "execution_count": null,
      "outputs": []
    },
    {
      "cell_type": "code",
      "source": [
        "from langchain.chains.question_answering import load_qa_chain\n",
        "from langchain.llms import OpenAI"
      ],
      "metadata": {
        "id": "kxFvmbhwuWhO"
      },
      "execution_count": null,
      "outputs": []
    },
    {
      "cell_type": "code",
      "source": [
        "chain = load_qa_chain(OpenAI(),chain_type='stuff')"
      ],
      "metadata": {
        "id": "oXeHPD8HuYql"
      },
      "execution_count": null,
      "outputs": []
    },
    {
      "cell_type": "code",
      "source": [
        "query = \" \"\n",
        "docs = doc_search.similarity_search(query)\n",
        "chain.run(input_documents=docs, questions=query)"
      ],
      "metadata": {
        "id": "JylYQfy_uZgN"
      },
      "execution_count": null,
      "outputs": []
    }
  ]
}