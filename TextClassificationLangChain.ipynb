{
  "nbformat": 4,
  "nbformat_minor": 0,
  "metadata": {
    "colab": {
      "provenance": []
    },
    "kernelspec": {
      "name": "python3",
      "display_name": "Python 3"
    },
    "language_info": {
      "name": "python"
    }
  },
  "cells": [
    {
      "cell_type": "code",
      "execution_count": null,
      "metadata": {
        "id": "GrJ1nZtv8YZy"
      },
      "outputs": [],
      "source": [
        "from langchain.document_loaders import TextLoader\n",
        "from langchain.text_splitter import CharacterTextSplitter\n",
        "from langchain.vectorstores import FAISS\n",
        "from langchain.embeddings import OpenAIEmbeddings\n",
        "from langchain.chains import RetrievalQA\n",
        "from langchain.llms import OpenAI"
      ]
    },
    {
      "cell_type": "code",
      "source": [
        "pip install -U langchain-community"
      ],
      "metadata": {
        "id": "f-IUOrmx8kc8"
      },
      "execution_count": null,
      "outputs": []
    },
    {
      "cell_type": "code",
      "source": [
        "files =[\"\"]"
      ],
      "metadata": {
        "id": "KUZ8eNfU8n0E"
      },
      "execution_count": null,
      "outputs": []
    },
    {
      "cell_type": "code",
      "source": [
        "files"
      ],
      "metadata": {
        "id": "pbYSBoLE8rCj"
      },
      "execution_count": null,
      "outputs": []
    },
    {
      "cell_type": "code",
      "source": [
        "#Adding all files we have\n",
        "documents = []\n",
        "for file in files:\n",
        "  loader = TextLoader(file)\n",
        "  documents.extend(loader.load())"
      ],
      "metadata": {
        "id": "4gk6bu-08tP7"
      },
      "execution_count": null,
      "outputs": []
    },
    {
      "cell_type": "code",
      "source": [
        "#splitting text into smaller chunks\n",
        "splitter = CharacterTextSplitter(chunk_size=500, chunk_overlap=50)\n",
        "docs = splitter.split_documents(documents)"
      ],
      "metadata": {
        "id": "SUoMt7MN8wA0"
      },
      "execution_count": null,
      "outputs": []
    },
    {
      "cell_type": "code",
      "source": [
        "import os\n",
        "os.environ[\"OPENAI_API_KEY\"] = \"skd-...\""
      ],
      "metadata": {
        "id": "B3St9-eH8yUs"
      },
      "execution_count": null,
      "outputs": []
    },
    {
      "cell_type": "code",
      "source": [
        "#creating retriveal-based QA chain\n",
        "qa = RetrievalQA.from_chain_type(\n",
        "    llm=OpenAI(),\n",
        "    retriver=db.as_retriever()\n",
        ")"
      ],
      "metadata": {
        "id": "0ZqFCsc_82eL"
      },
      "execution_count": null,
      "outputs": []
    },
    {
      "cell_type": "code",
      "source": [
        "#Ask question to our files\n",
        "query = \" \"\n",
        "answer = qa.run(query)\n",
        "print(\"Answers : \",answer)"
      ],
      "metadata": {
        "id": "ZdBhA9-u84Er"
      },
      "execution_count": null,
      "outputs": []
    }
  ]
}